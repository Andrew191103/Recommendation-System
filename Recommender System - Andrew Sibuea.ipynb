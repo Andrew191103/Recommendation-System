{
 "cells": [
  {
   "cell_type": "code",
   "execution_count": 81,
   "id": "b8161cf3",
   "metadata": {},
   "outputs": [],
   "source": [
    "import pandas as pd\n",
    "from math import sqrt\n",
    "import numpy as np"
   ]
  },
  {
   "cell_type": "code",
   "execution_count": 82,
   "id": "b4e0a7d3",
   "metadata": {},
   "outputs": [
    {
     "name": "stdout",
     "output_type": "stream",
     "text": [
      "<class 'pandas.core.frame.DataFrame'>\n",
      "RangeIndex: 9742 entries, 0 to 9741\n",
      "Data columns (total 3 columns):\n",
      " #   Column   Non-Null Count  Dtype \n",
      "---  ------   --------------  ----- \n",
      " 0   movieId  9742 non-null   int64 \n",
      " 1   title    9742 non-null   object\n",
      " 2   genres   9742 non-null   object\n",
      "dtypes: int64(1), object(2)\n",
      "memory usage: 228.5+ KB\n",
      "None\n"
     ]
    }
   ],
   "source": [
    "movies_df = pd.read_csv('/Users/andrewsebastian/Downloads/ml-latest-small/movies.csv')\n",
    "ratings_df = pd.read_csv('/Users/andrewsebastian/Downloads/ml-latest-small/ratings.csv')\n",
    "print(movies_df.info())"
   ]
  },
  {
   "cell_type": "code",
   "execution_count": 83,
   "id": "30cdee32",
   "metadata": {},
   "outputs": [
    {
     "name": "stdout",
     "output_type": "stream",
     "text": [
      "                   title  rating\n",
      "0        Imperium (2016)     2.5\n",
      "1   Bottle Rocket (1996)     5.0\n",
      "2        Scream 3 (2000)     5.0\n",
      "3         Aladdin (1992)     4.0\n",
      "4  State and Main (2000)     3.0\n"
     ]
    }
   ],
   "source": [
    "userInput = [{'title':'Imperium (2016)', 'rating':2.5},\n",
    "            {'title':'Bottle Rocket (1996)', 'rating':5.0},\n",
    "            {'title':'Scream 3 (2000)', 'rating':5.0},\n",
    "            {'title':'Aladdin (1992)', 'rating':4.0},\n",
    "            {'title':'State and Main (2000)', 'rating':3.0}]\n",
    "inputMovies = pd.DataFrame(userInput)\n",
    "print(inputMovies)"
   ]
  },
  {
   "cell_type": "code",
   "execution_count": 84,
   "id": "dc8a8ed1",
   "metadata": {},
   "outputs": [
    {
     "name": "stdout",
     "output_type": "stream",
     "text": [
      "   movieId                  title  rating\n",
      "0      101   Bottle Rocket (1996)     5.0\n",
      "1      588         Aladdin (1992)     4.0\n",
      "2     3273        Scream 3 (2000)     5.0\n",
      "3     4029  State and Main (2000)     3.0\n",
      "4   162828        Imperium (2016)     2.5\n"
     ]
    }
   ],
   "source": [
    "inputMovies = pd.DataFrame(userInput)\n",
    "\n",
    "# Filter movies by title in userInput\n",
    "inputId = movies_df[movies_df['title'].isin(inputMovies['title'].tolist())]\n",
    "\n",
    "# Drop unnecessary columns\n",
    "inputId = inputId.drop(['genres'], axis=1)\n",
    "\n",
    "# Merge dataframes\n",
    "inputMovies = pd.merge(inputId, inputMovies, on='title')\n",
    "\n",
    "# Select relevant columns\n",
    "inputMovies = inputMovies[['movieId', 'title', 'rating']]\n",
    "\n",
    "print(inputMovies)"
   ]
  },
  {
   "cell_type": "code",
   "execution_count": 85,
   "id": "1fb078f0",
   "metadata": {},
   "outputs": [
    {
     "name": "stdout",
     "output_type": "stream",
     "text": [
      "         userId  rating  timestamp\n",
      "movieId                           \n",
      "101          23      23         23\n",
      "588         183     183        183\n",
      "3273         29      29         29\n",
      "4029         12      12         12\n",
      "162828        1       1          1\n"
     ]
    }
   ],
   "source": [
    "userSubset = ratings_df [ratings_df ['movieId'].isin(inputMovies ['movieId'].tolist ())]\n",
    "print(userSubset.groupby('movieId'). count ())"
   ]
  },
  {
   "cell_type": "code",
   "execution_count": 86,
   "id": "93ac51e8",
   "metadata": {},
   "outputs": [
    {
     "name": "stdout",
     "output_type": "stream",
     "text": [
      "[(414,        userId  movieId  rating  timestamp\n",
      "62341     414      101     4.0  961438199\n",
      "62552     414      588     4.0  961438199\n",
      "63378     414     3273     3.0  963236640\n",
      "63585     414     4029     5.0  993482948), (474,        userId  movieId  rating   timestamp\n",
      "73130     474      101     3.5  1081862489\n",
      "73241     474      588     4.0   978576063\n",
      "74035     474     3273     4.0   975173316\n",
      "74201     474     4029     4.5  1100291592), (249,        userId  movieId  rating   timestamp\n",
      "36384     249      101     3.0  1388146126\n",
      "36419     249      588     4.0  1353800716\n",
      "36593     249     3273     2.5  1346752311), (274,        userId  movieId  rating   timestamp\n",
      "39258     274      101     3.5  1250200353\n",
      "39338     274      588     4.0  1171934614\n",
      "39761     274     3273     2.5  1171787271), (307,        userId  movieId  rating   timestamp\n",
      "46755     307      101     4.5  1186087030\n",
      "46841     307      588     4.0  1186084593\n",
      "47175     307     3273     0.5  1186083439)]\n"
     ]
    },
    {
     "name": "stderr",
     "output_type": "stream",
     "text": [
      "/var/folders/j7/_x3ybjp15wdgc3b5zsx2kfn40000gn/T/ipykernel_28552/3561338820.py:9: FutureWarning: In a future version of pandas, a length 1 tuple will be returned when iterating over a groupby with a grouper equal to a list of length 1. Don't supply a list with a single grouper to avoid this warning.\n",
      "  userSubsetGroup = sorted(userSubsetGroup, key=take_5_elem, reverse=True)\n"
     ]
    }
   ],
   "source": [
    "# Groupby creates several sub dataframes where they all have the same value in the column specified as the paramet\n",
    "userSubsetGroup = userSubset.groupby(['userId'])\n",
    "\n",
    "def take_5_elem(x):\n",
    "    # print(len(x[1]))\n",
    "    return len(x[1])\n",
    "\n",
    "# Sorting it so users with movie most in common with the input will have priority\n",
    "userSubsetGroup = sorted(userSubsetGroup, key=take_5_elem, reverse=True)\n",
    "userSubsetGroup = userSubsetGroup[0: 100]\n",
    "print(userSubsetGroup[0:5])"
   ]
  },
  {
   "cell_type": "code",
   "execution_count": 87,
   "id": "cd5774f8",
   "metadata": {},
   "outputs": [],
   "source": [
    "# Store the Pearson Correlation in a dictionary, where the key is the user Id and the value is the coefficient\n",
    "pearsonCorrelationDict = {}\n",
    "\n",
    "# For every user group in our subset\n",
    "for name, group in userSubsetGroup:\n",
    "    # Let's start by sorting the input and current user group so the values aren't mixed up later on\n",
    "    group = group.sort_values(by='movieId')\n",
    "    inputMovies = inputMovies.sort_values(by='movieId')\n",
    "    \n",
    "    # Get the N for the formula\n",
    "    nRatings = len(group)\n",
    "    \n",
    "    # Get the review scores for the movies that they both have in common\n",
    "    temp_df = inputMovies[inputMovies['movieId'].isin(group['movieId'].tolist())]\n",
    "    \n",
    "    # And then store them in a temporary buffer variable in a list format to facilitate future calculations\n",
    "    tempRatingList = temp_df['rating'].tolist()\n",
    "    \n",
    "    # Put the current user group reviews in a list format\n",
    "    tempGroupList = group['rating'].tolist()\n",
    "    \n",
    "    # Calculate the pearson correlation between two users, so-called, x and y manually\n",
    "    Sxx = sum([i**2 for i in tempRatingList]) - pow(sum(tempRatingList), 2) / float(nRatings)\n",
    "    Syy = sum([i**2 for i in tempGroupList]) - pow(sum(tempGroupList), 2) / float(nRatings)\n",
    "    Sxy = sum(i * j for i, j in zip(tempRatingList, tempGroupList)) - (sum(tempRatingList) * sum(tempGroupList)) / float(nRatings)\n",
    "    \n",
    "    # If the denominator is different than zero, then divide, else, 0 correlation.\n",
    "    if Sxx != 0 and Syy != 0:\n",
    "        pearsonCorrelationDict[name] = Sxy / sqrt(Sxx * Syy)\n",
    "    else:\n",
    "        pearsonCorrelationDict[name] = 0"
   ]
  },
  {
   "cell_type": "code",
   "execution_count": 88,
   "id": "ef5bd476",
   "metadata": {},
   "outputs": [
    {
     "name": "stdout",
     "output_type": "stream",
     "text": [
      "   similarityIndex  userId\n",
      "0        -0.852803     414\n",
      "1        -0.852803     474\n",
      "2        -0.944911     249\n",
      "3        -0.755929     274\n",
      "4        -0.397360     307\n"
     ]
    }
   ],
   "source": [
    "pearsonDF = pd. DataFrame. from_dict (pearsonCorrelationDict, orient='index')\n",
    "pearsonDF.columns = ['similarityIndex']\n",
    "pearsonDF ['userId'] = pearsonDF. index\n",
    "pearsonDF.index = range(len (pearsonDF))\n",
    "print (pearsonDF.head ( ))"
   ]
  },
  {
   "cell_type": "code",
   "execution_count": 89,
   "id": "c4f62904",
   "metadata": {},
   "outputs": [
    {
     "name": "stdout",
     "output_type": "stream",
     "text": [
      "    similarityIndex  userId\n",
      "25              1.0     600\n",
      "24              1.0     597\n",
      "9               1.0       4\n",
      "21              1.0     480\n",
      "11              1.0      20\n"
     ]
    }
   ],
   "source": [
    "topUsers = pearsonDF.sort_values(by='similarityIndex', ascending=False).head(50)\n",
    "print(topUsers.head())"
   ]
  },
  {
   "cell_type": "code",
   "execution_count": 90,
   "id": "7180bdde",
   "metadata": {},
   "outputs": [
    {
     "name": "stdout",
     "output_type": "stream",
     "text": [
      "    similarityIndex  userId  movieId  rating   timestamp\n",
      "0               1.0     600        1     2.5  1237764347\n",
      "1               1.0     600        2     4.0  1237764627\n",
      "2               1.0     600        4     1.5  1237760055\n",
      "3               1.0     600        5     2.5  1237759452\n",
      "4               1.0     600        7     3.5  1237851387\n",
      "..              ...     ...      ...     ...         ...\n",
      "95              1.0     600      539     2.0  1237742333\n",
      "96              1.0     600      543     2.5  1237851366\n",
      "97              1.0     600      551     4.0  1237763405\n",
      "98              1.0     600      552     3.5  1237713516\n",
      "99              1.0     600      558     2.0  1237760744\n",
      "\n",
      "[100 rows x 5 columns]\n"
     ]
    }
   ],
   "source": [
    "topUsersRating=topUsers.merge(ratings_df, left_on='userId', right_on='userId', how='inner')\n",
    "print(topUsersRating. head (100))"
   ]
  },
  {
   "cell_type": "code",
   "execution_count": 91,
   "id": "5f526613",
   "metadata": {},
   "outputs": [
    {
     "name": "stdout",
     "output_type": "stream",
     "text": [
      "   similarityIndex  userId  movieId  rating   timestamp  weightedRating\n",
      "0              1.0     600        1     2.5  1237764347             2.5\n",
      "1              1.0     600        2     4.0  1237764627             4.0\n",
      "2              1.0     600        4     1.5  1237760055             1.5\n",
      "3              1.0     600        5     2.5  1237759452             2.5\n",
      "4              1.0     600        7     3.5  1237851387             3.5\n"
     ]
    }
   ],
   "source": [
    "#Multiplies the similarity by the user's ratings\n",
    "topUsersRating ['weightedRating'] = topUsersRating ['similarityIndex']*topUsersRating ['rating']\n",
    "print(topUsersRating.head ())"
   ]
  },
  {
   "cell_type": "code",
   "execution_count": 92,
   "id": "635f0548",
   "metadata": {},
   "outputs": [
    {
     "name": "stdout",
     "output_type": "stream",
     "text": [
      "         sum_similarityIndex  sum _weightedRating\n",
      "movieId                                          \n",
      "1                        4.0                 14.5\n",
      "2                        5.0                 16.5\n",
      "3                        2.0                  5.5\n",
      "4                        1.0                  1.5\n",
      "5                        2.0                  5.5\n"
     ]
    }
   ],
   "source": [
    "#Applies a sum to the topUsers after grouping it up by movieId\n",
    "tempTopUsersRating = topUsersRating.groupby('movieId').sum()[['similarityIndex', 'weightedRating']]\n",
    "tempTopUsersRating.columns = ['sum_similarityIndex', 'sum _weightedRating']\n",
    "print (tempTopUsersRating.head ())"
   ]
  },
  {
   "cell_type": "code",
   "execution_count": 93,
   "id": "e576fe7b",
   "metadata": {},
   "outputs": [
    {
     "name": "stdout",
     "output_type": "stream",
     "text": [
      "         weighted average recommendation score  movieId\n",
      "movieId                                                \n",
      "1                                     3.625000        1\n",
      "2                                     3.300000        2\n",
      "3                                     2.750000        3\n",
      "4                                     1.500000        4\n",
      "5                                     2.750000        5\n",
      "6                                     3.500000        6\n",
      "7                                     2.250000        7\n",
      "8                                     1.000000        8\n",
      "10                                    3.666667       10\n",
      "11                                    3.000000       11\n"
     ]
    }
   ],
   "source": [
    "# Remove extra spaces in column names\n",
    "tempTopUsersRating.columns = tempTopUsersRating.columns.str.replace(' ', '')\n",
    "\n",
    "# Creates an empty dataframe\n",
    "recommendation_df = pd.DataFrame()\n",
    "\n",
    "# Now we take the weighted average\n",
    "recommendation_df['weighted average recommendation score'] = tempTopUsersRating['sum_weightedRating'] / tempTopUsersRating['sum_similarityIndex']\n",
    "recommendation_df['movieId'] = tempTopUsersRating.index\n",
    "\n",
    "print(recommendation_df.head(10))"
   ]
  },
  {
   "cell_type": "code",
   "execution_count": 94,
   "id": "dbf74116",
   "metadata": {},
   "outputs": [
    {
     "name": "stdout",
     "output_type": "stream",
     "text": [
      "         weighted average recommendation score  movieId\n",
      "movieId                                                \n",
      "1221                                       5.0     1221\n",
      "132333                                     5.0   132333\n",
      "322                                        5.0      322\n",
      "3677                                       5.0     3677\n",
      "933                                        5.0      933\n",
      "...                                        ...      ...\n",
      "4775                                       0.5     4775\n",
      "7318                                       0.5     7318\n",
      "125221                                     0.5   125221\n",
      "125916                                     0.5   125916\n",
      "3990                                       0.5     3990\n",
      "\n",
      "[2951 rows x 2 columns]\n"
     ]
    }
   ],
   "source": [
    "# Drop rows with NaN values in the 'weighted average recommendation score' column\n",
    "recommendation_df = recommendation_df.dropna(subset=['weighted average recommendation score'])\n",
    "\n",
    "# Sort by 'weighted average recommendation score' in descending order\n",
    "recommendation_df = recommendation_df.sort_values(by='weighted average recommendation score', ascending=False)\n",
    "\n",
    "# Print the DataFrame\n",
    "print(recommendation_df)"
   ]
  },
  {
   "cell_type": "code",
   "execution_count": 97,
   "id": "76117eea",
   "metadata": {},
   "outputs": [
    {
     "name": "stdout",
     "output_type": "stream",
     "text": [
      "      movieId           title_without_year  year\n",
      "0           1                    Toy Story  1995\n",
      "1           2                      Jumanji  1995\n",
      "2           3             Grumpier Old Men  1995\n",
      "3           4            Waiting to Exhale  1995\n",
      "4           5  Father of the Bride Part II  1995\n",
      "...       ...                          ...   ...\n",
      "9411   165347  Jack Reacher: Never Go Back  2016\n",
      "9467   168350                  100 Streets  2016\n",
      "9471   168456               Mercury Plains  2016\n",
      "9479   169180               American Fable  2017\n",
      "9564   173751                   Tiger Raid  2016\n",
      "\n",
      "[2947 rows x 3 columns]\n"
     ]
    },
    {
     "name": "stderr",
     "output_type": "stream",
     "text": [
      "/var/folders/j7/_x3ybjp15wdgc3b5zsx2kfn40000gn/T/ipykernel_28552/1279999554.py:5: FutureWarning: The default value of regex will change from True to False in a future version.\n",
      "  movies_df['title_without_year'] = movies_df['title'].str.replace(r'\\(\\d{4}\\)', '').str.strip()\n"
     ]
    }
   ],
   "source": [
    "# Extract the year from the 'title' column and create a new column 'year'\n",
    "movies_df['year'] = movies_df['title'].str.extract(r'\\((\\d{4})\\)')\n",
    "\n",
    "# Remove the year from the 'title' column\n",
    "movies_df['title_without_year'] = movies_df['title'].str.replace(r'\\(\\d{4}\\)', '').str.strip()\n",
    "\n",
    "# Now, you can use the modified DataFrame for further processing\n",
    "recommended_movie = movies_df.loc[movies_df['movieId'].isin(recommendation_df['movieId'])]\n",
    "recommended_movie = recommended_movie.loc[~recommended_movie['movieId'].isin(userSubset['movieId'])]\n",
    "\n",
    "# Print the resulting DataFrame\n",
    "print(recommended_movie[['movieId', 'title_without_year', 'year']])"
   ]
  },
  {
   "cell_type": "code",
   "execution_count": null,
   "id": "d8fd0754",
   "metadata": {},
   "outputs": [],
   "source": []
  }
 ],
 "metadata": {
  "kernelspec": {
   "display_name": "Python 3 (ipykernel)",
   "language": "python",
   "name": "python3"
  },
  "language_info": {
   "codemirror_mode": {
    "name": "ipython",
    "version": 3
   },
   "file_extension": ".py",
   "mimetype": "text/x-python",
   "name": "python",
   "nbconvert_exporter": "python",
   "pygments_lexer": "ipython3",
   "version": "3.11.4"
  }
 },
 "nbformat": 4,
 "nbformat_minor": 5
}
